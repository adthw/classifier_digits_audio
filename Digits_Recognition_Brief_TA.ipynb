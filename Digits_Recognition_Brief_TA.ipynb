{
 "cells": [
  {
   "cell_type": "markdown",
   "metadata": {},
   "source": [
    "# Reconnaissance des Digits basée sur les enregistrements Audios "
   ]
  },
  {
   "cell_type": "markdown",
   "metadata": {},
   "source": [
    "### Importer les bibliothéques necessaires "
   ]
  },
  {
   "cell_type": "code",
   "execution_count": 48,
   "metadata": {
    "scrolled": true
   },
   "outputs": [],
   "source": [
    "import numpy as np\n",
    "import os\n",
    "import matplotlib.pyplot as plt\n",
    "import seaborn as sb\n",
    "sb.set_style(\"whitegrid\", {'axes.grid' : False})\n",
    "sb.set(font_scale = 2)\n",
    "import pandas as pd\n",
    "from sklearn.model_selection import train_test_split\n",
    "from sklearn.preprocessing import StandardScaler\n",
    "from sklearn.tree import DecisionTreeClassifier\n",
    "from sklearn.ensemble import RandomForestClassifier\n",
    "from sklearn.ensemble import GradientBoostingClassifier\n",
    "from sklearn.svm import SVC\n",
    "from sklearn.neural_network import MLPClassifier \n",
    "from Tools.tools import rec\n",
    "from Tools.tools import collection\n",
    "import sounddevice as sd\n",
    "from python_speech_features import mfcc\n",
    "import warnings\n",
    "warnings.filterwarnings('ignore')\n",
    "from xgboost import XGBClassifier\n",
    "from sklearn.neural_network import MLPClassifier"
   ]
  },
  {
   "cell_type": "markdown",
   "metadata": {},
   "source": [
    "### Collection \n",
    "(mis en commentaire apres collecte)"
   ]
  },
  {
   "cell_type": "code",
   "execution_count": 49,
   "metadata": {},
   "outputs": [],
   "source": [
    "#collection()"
   ]
  },
  {
   "cell_type": "markdown",
   "metadata": {},
   "source": [
    "#### 1. Importer votre DataSet"
   ]
  },
  {
   "cell_type": "code",
   "execution_count": 50,
   "metadata": {},
   "outputs": [],
   "source": [
    "mydata = pd.read_csv('./DataSet/'+os.listdir('./DataSet/')[0])"
   ]
  },
  {
   "cell_type": "markdown",
   "metadata": {},
   "source": [
    "##### Print"
   ]
  },
  {
   "cell_type": "code",
   "execution_count": 51,
   "metadata": {},
   "outputs": [
    {
     "data": {
      "text/html": [
       "<div>\n",
       "<style scoped>\n",
       "    .dataframe tbody tr th:only-of-type {\n",
       "        vertical-align: middle;\n",
       "    }\n",
       "\n",
       "    .dataframe tbody tr th {\n",
       "        vertical-align: top;\n",
       "    }\n",
       "\n",
       "    .dataframe thead th {\n",
       "        text-align: right;\n",
       "    }\n",
       "</style>\n",
       "<table border=\"1\" class=\"dataframe\">\n",
       "  <thead>\n",
       "    <tr style=\"text-align: right;\">\n",
       "      <th></th>\n",
       "      <th>Fe1</th>\n",
       "      <th>Fe2</th>\n",
       "      <th>Fe3</th>\n",
       "      <th>Fe4</th>\n",
       "      <th>Fe5</th>\n",
       "      <th>Fe6</th>\n",
       "      <th>Fe7</th>\n",
       "      <th>Fe8</th>\n",
       "      <th>Fe9</th>\n",
       "      <th>Fe10</th>\n",
       "      <th>Fe11</th>\n",
       "      <th>Fe12</th>\n",
       "      <th>Target</th>\n",
       "    </tr>\n",
       "  </thead>\n",
       "  <tbody>\n",
       "    <tr>\n",
       "      <th>0</th>\n",
       "      <td>13.626307</td>\n",
       "      <td>-8.358610</td>\n",
       "      <td>1.652672</td>\n",
       "      <td>4.559087</td>\n",
       "      <td>3.605715</td>\n",
       "      <td>8.084186</td>\n",
       "      <td>1.277900</td>\n",
       "      <td>3.687070</td>\n",
       "      <td>-0.391045</td>\n",
       "      <td>3.926159</td>\n",
       "      <td>0.394828</td>\n",
       "      <td>-1.025183</td>\n",
       "      <td>0.0</td>\n",
       "    </tr>\n",
       "    <tr>\n",
       "      <th>1</th>\n",
       "      <td>12.481881</td>\n",
       "      <td>-8.699096</td>\n",
       "      <td>1.191715</td>\n",
       "      <td>0.548105</td>\n",
       "      <td>1.827466</td>\n",
       "      <td>5.975535</td>\n",
       "      <td>3.931772</td>\n",
       "      <td>7.237499</td>\n",
       "      <td>0.670956</td>\n",
       "      <td>2.290900</td>\n",
       "      <td>-2.812438</td>\n",
       "      <td>0.216187</td>\n",
       "      <td>1.0</td>\n",
       "    </tr>\n",
       "    <tr>\n",
       "      <th>2</th>\n",
       "      <td>13.736032</td>\n",
       "      <td>-7.181568</td>\n",
       "      <td>2.363272</td>\n",
       "      <td>4.218754</td>\n",
       "      <td>5.493468</td>\n",
       "      <td>11.080288</td>\n",
       "      <td>4.657533</td>\n",
       "      <td>6.565330</td>\n",
       "      <td>-1.267028</td>\n",
       "      <td>3.296578</td>\n",
       "      <td>-1.382642</td>\n",
       "      <td>1.795250</td>\n",
       "      <td>2.0</td>\n",
       "    </tr>\n",
       "    <tr>\n",
       "      <th>3</th>\n",
       "      <td>13.615541</td>\n",
       "      <td>-8.899082</td>\n",
       "      <td>-1.014591</td>\n",
       "      <td>-0.005146</td>\n",
       "      <td>0.791007</td>\n",
       "      <td>5.795868</td>\n",
       "      <td>-0.900621</td>\n",
       "      <td>4.201618</td>\n",
       "      <td>3.258517</td>\n",
       "      <td>8.934901</td>\n",
       "      <td>0.699798</td>\n",
       "      <td>0.746071</td>\n",
       "      <td>3.0</td>\n",
       "    </tr>\n",
       "    <tr>\n",
       "      <th>4</th>\n",
       "      <td>13.389833</td>\n",
       "      <td>-10.487380</td>\n",
       "      <td>-0.716591</td>\n",
       "      <td>-0.092303</td>\n",
       "      <td>2.177518</td>\n",
       "      <td>7.676387</td>\n",
       "      <td>0.293865</td>\n",
       "      <td>6.700040</td>\n",
       "      <td>1.712394</td>\n",
       "      <td>6.150116</td>\n",
       "      <td>-0.583791</td>\n",
       "      <td>1.197234</td>\n",
       "      <td>4.0</td>\n",
       "    </tr>\n",
       "    <tr>\n",
       "      <th>5</th>\n",
       "      <td>15.287439</td>\n",
       "      <td>-12.684241</td>\n",
       "      <td>-1.538339</td>\n",
       "      <td>2.008096</td>\n",
       "      <td>2.387011</td>\n",
       "      <td>8.605568</td>\n",
       "      <td>2.373760</td>\n",
       "      <td>4.844792</td>\n",
       "      <td>0.635185</td>\n",
       "      <td>3.008278</td>\n",
       "      <td>-0.745027</td>\n",
       "      <td>1.415918</td>\n",
       "      <td>5.0</td>\n",
       "    </tr>\n",
       "    <tr>\n",
       "      <th>6</th>\n",
       "      <td>15.120473</td>\n",
       "      <td>-14.290018</td>\n",
       "      <td>-2.330290</td>\n",
       "      <td>6.097526</td>\n",
       "      <td>2.250374</td>\n",
       "      <td>12.024729</td>\n",
       "      <td>-1.344069</td>\n",
       "      <td>4.467819</td>\n",
       "      <td>1.374166</td>\n",
       "      <td>5.705705</td>\n",
       "      <td>-0.752124</td>\n",
       "      <td>0.477974</td>\n",
       "      <td>6.0</td>\n",
       "    </tr>\n",
       "    <tr>\n",
       "      <th>7</th>\n",
       "      <td>13.950515</td>\n",
       "      <td>-11.908526</td>\n",
       "      <td>0.227831</td>\n",
       "      <td>2.808594</td>\n",
       "      <td>2.184873</td>\n",
       "      <td>7.445286</td>\n",
       "      <td>0.303100</td>\n",
       "      <td>4.273031</td>\n",
       "      <td>-1.380557</td>\n",
       "      <td>2.953893</td>\n",
       "      <td>0.705131</td>\n",
       "      <td>1.510578</td>\n",
       "      <td>7.0</td>\n",
       "    </tr>\n",
       "    <tr>\n",
       "      <th>8</th>\n",
       "      <td>14.073240</td>\n",
       "      <td>-10.132357</td>\n",
       "      <td>2.108557</td>\n",
       "      <td>4.818049</td>\n",
       "      <td>6.313741</td>\n",
       "      <td>9.246517</td>\n",
       "      <td>4.041643</td>\n",
       "      <td>5.060615</td>\n",
       "      <td>0.514676</td>\n",
       "      <td>3.817863</td>\n",
       "      <td>-0.235056</td>\n",
       "      <td>0.318187</td>\n",
       "      <td>8.0</td>\n",
       "    </tr>\n",
       "    <tr>\n",
       "      <th>9</th>\n",
       "      <td>14.358092</td>\n",
       "      <td>-9.897269</td>\n",
       "      <td>0.012982</td>\n",
       "      <td>1.393408</td>\n",
       "      <td>0.666087</td>\n",
       "      <td>10.192073</td>\n",
       "      <td>2.226840</td>\n",
       "      <td>5.539084</td>\n",
       "      <td>3.433719</td>\n",
       "      <td>7.989177</td>\n",
       "      <td>-0.120020</td>\n",
       "      <td>1.334828</td>\n",
       "      <td>9.0</td>\n",
       "    </tr>\n",
       "    <tr>\n",
       "      <th>10</th>\n",
       "      <td>12.654305</td>\n",
       "      <td>-9.114537</td>\n",
       "      <td>1.709838</td>\n",
       "      <td>3.843856</td>\n",
       "      <td>3.017492</td>\n",
       "      <td>9.648118</td>\n",
       "      <td>-0.215591</td>\n",
       "      <td>3.863648</td>\n",
       "      <td>-3.931510</td>\n",
       "      <td>2.933816</td>\n",
       "      <td>-2.438439</td>\n",
       "      <td>-0.053669</td>\n",
       "      <td>0.0</td>\n",
       "    </tr>\n",
       "    <tr>\n",
       "      <th>11</th>\n",
       "      <td>12.624514</td>\n",
       "      <td>-8.801181</td>\n",
       "      <td>2.652990</td>\n",
       "      <td>2.179174</td>\n",
       "      <td>3.700467</td>\n",
       "      <td>7.369301</td>\n",
       "      <td>4.774533</td>\n",
       "      <td>7.175004</td>\n",
       "      <td>0.223996</td>\n",
       "      <td>3.125208</td>\n",
       "      <td>-2.418852</td>\n",
       "      <td>-0.123074</td>\n",
       "      <td>1.0</td>\n",
       "    </tr>\n",
       "    <tr>\n",
       "      <th>12</th>\n",
       "      <td>13.028986</td>\n",
       "      <td>-8.578440</td>\n",
       "      <td>1.810301</td>\n",
       "      <td>4.223423</td>\n",
       "      <td>6.213752</td>\n",
       "      <td>11.348577</td>\n",
       "      <td>4.501653</td>\n",
       "      <td>3.767079</td>\n",
       "      <td>-1.028144</td>\n",
       "      <td>4.738916</td>\n",
       "      <td>-1.164510</td>\n",
       "      <td>-1.403901</td>\n",
       "      <td>2.0</td>\n",
       "    </tr>\n",
       "    <tr>\n",
       "      <th>13</th>\n",
       "      <td>14.302967</td>\n",
       "      <td>-8.644746</td>\n",
       "      <td>2.291906</td>\n",
       "      <td>2.808888</td>\n",
       "      <td>2.105185</td>\n",
       "      <td>6.091637</td>\n",
       "      <td>2.598566</td>\n",
       "      <td>4.850026</td>\n",
       "      <td>2.851925</td>\n",
       "      <td>7.746739</td>\n",
       "      <td>2.377895</td>\n",
       "      <td>1.681476</td>\n",
       "      <td>3.0</td>\n",
       "    </tr>\n",
       "    <tr>\n",
       "      <th>14</th>\n",
       "      <td>15.296835</td>\n",
       "      <td>-10.908805</td>\n",
       "      <td>0.174644</td>\n",
       "      <td>1.566600</td>\n",
       "      <td>3.266239</td>\n",
       "      <td>6.663934</td>\n",
       "      <td>2.713234</td>\n",
       "      <td>6.454690</td>\n",
       "      <td>2.748005</td>\n",
       "      <td>7.756934</td>\n",
       "      <td>1.099066</td>\n",
       "      <td>0.906787</td>\n",
       "      <td>4.0</td>\n",
       "    </tr>\n",
       "    <tr>\n",
       "      <th>15</th>\n",
       "      <td>15.545718</td>\n",
       "      <td>-12.264299</td>\n",
       "      <td>-0.366942</td>\n",
       "      <td>3.199086</td>\n",
       "      <td>3.751443</td>\n",
       "      <td>8.253748</td>\n",
       "      <td>3.634680</td>\n",
       "      <td>4.472460</td>\n",
       "      <td>1.746576</td>\n",
       "      <td>5.800915</td>\n",
       "      <td>2.123488</td>\n",
       "      <td>2.813497</td>\n",
       "      <td>5.0</td>\n",
       "    </tr>\n",
       "    <tr>\n",
       "      <th>16</th>\n",
       "      <td>14.855612</td>\n",
       "      <td>-12.566801</td>\n",
       "      <td>-3.050548</td>\n",
       "      <td>6.928248</td>\n",
       "      <td>2.899151</td>\n",
       "      <td>12.308632</td>\n",
       "      <td>0.467377</td>\n",
       "      <td>2.427227</td>\n",
       "      <td>1.572069</td>\n",
       "      <td>3.771174</td>\n",
       "      <td>2.076471</td>\n",
       "      <td>-0.388128</td>\n",
       "      <td>6.0</td>\n",
       "    </tr>\n",
       "    <tr>\n",
       "      <th>17</th>\n",
       "      <td>14.145660</td>\n",
       "      <td>-11.228028</td>\n",
       "      <td>0.492441</td>\n",
       "      <td>5.304823</td>\n",
       "      <td>3.953032</td>\n",
       "      <td>9.314580</td>\n",
       "      <td>2.195151</td>\n",
       "      <td>5.979449</td>\n",
       "      <td>0.472589</td>\n",
       "      <td>4.602755</td>\n",
       "      <td>1.466489</td>\n",
       "      <td>1.155963</td>\n",
       "      <td>7.0</td>\n",
       "    </tr>\n",
       "    <tr>\n",
       "      <th>18</th>\n",
       "      <td>13.351678</td>\n",
       "      <td>-9.685101</td>\n",
       "      <td>1.872257</td>\n",
       "      <td>6.017857</td>\n",
       "      <td>6.999897</td>\n",
       "      <td>9.236847</td>\n",
       "      <td>4.833890</td>\n",
       "      <td>4.491079</td>\n",
       "      <td>0.230541</td>\n",
       "      <td>4.662488</td>\n",
       "      <td>-0.442572</td>\n",
       "      <td>0.756571</td>\n",
       "      <td>8.0</td>\n",
       "    </tr>\n",
       "    <tr>\n",
       "      <th>19</th>\n",
       "      <td>15.812170</td>\n",
       "      <td>-12.515997</td>\n",
       "      <td>-2.019513</td>\n",
       "      <td>2.356916</td>\n",
       "      <td>2.069186</td>\n",
       "      <td>14.820864</td>\n",
       "      <td>2.780406</td>\n",
       "      <td>4.422763</td>\n",
       "      <td>0.963447</td>\n",
       "      <td>8.154892</td>\n",
       "      <td>1.847035</td>\n",
       "      <td>1.273384</td>\n",
       "      <td>9.0</td>\n",
       "    </tr>\n",
       "  </tbody>\n",
       "</table>\n",
       "</div>"
      ],
      "text/plain": [
       "          Fe1        Fe2       Fe3       Fe4       Fe5        Fe6       Fe7  \\\n",
       "0   13.626307  -8.358610  1.652672  4.559087  3.605715   8.084186  1.277900   \n",
       "1   12.481881  -8.699096  1.191715  0.548105  1.827466   5.975535  3.931772   \n",
       "2   13.736032  -7.181568  2.363272  4.218754  5.493468  11.080288  4.657533   \n",
       "3   13.615541  -8.899082 -1.014591 -0.005146  0.791007   5.795868 -0.900621   \n",
       "4   13.389833 -10.487380 -0.716591 -0.092303  2.177518   7.676387  0.293865   \n",
       "5   15.287439 -12.684241 -1.538339  2.008096  2.387011   8.605568  2.373760   \n",
       "6   15.120473 -14.290018 -2.330290  6.097526  2.250374  12.024729 -1.344069   \n",
       "7   13.950515 -11.908526  0.227831  2.808594  2.184873   7.445286  0.303100   \n",
       "8   14.073240 -10.132357  2.108557  4.818049  6.313741   9.246517  4.041643   \n",
       "9   14.358092  -9.897269  0.012982  1.393408  0.666087  10.192073  2.226840   \n",
       "10  12.654305  -9.114537  1.709838  3.843856  3.017492   9.648118 -0.215591   \n",
       "11  12.624514  -8.801181  2.652990  2.179174  3.700467   7.369301  4.774533   \n",
       "12  13.028986  -8.578440  1.810301  4.223423  6.213752  11.348577  4.501653   \n",
       "13  14.302967  -8.644746  2.291906  2.808888  2.105185   6.091637  2.598566   \n",
       "14  15.296835 -10.908805  0.174644  1.566600  3.266239   6.663934  2.713234   \n",
       "15  15.545718 -12.264299 -0.366942  3.199086  3.751443   8.253748  3.634680   \n",
       "16  14.855612 -12.566801 -3.050548  6.928248  2.899151  12.308632  0.467377   \n",
       "17  14.145660 -11.228028  0.492441  5.304823  3.953032   9.314580  2.195151   \n",
       "18  13.351678  -9.685101  1.872257  6.017857  6.999897   9.236847  4.833890   \n",
       "19  15.812170 -12.515997 -2.019513  2.356916  2.069186  14.820864  2.780406   \n",
       "\n",
       "         Fe8       Fe9      Fe10      Fe11      Fe12  Target  \n",
       "0   3.687070 -0.391045  3.926159  0.394828 -1.025183     0.0  \n",
       "1   7.237499  0.670956  2.290900 -2.812438  0.216187     1.0  \n",
       "2   6.565330 -1.267028  3.296578 -1.382642  1.795250     2.0  \n",
       "3   4.201618  3.258517  8.934901  0.699798  0.746071     3.0  \n",
       "4   6.700040  1.712394  6.150116 -0.583791  1.197234     4.0  \n",
       "5   4.844792  0.635185  3.008278 -0.745027  1.415918     5.0  \n",
       "6   4.467819  1.374166  5.705705 -0.752124  0.477974     6.0  \n",
       "7   4.273031 -1.380557  2.953893  0.705131  1.510578     7.0  \n",
       "8   5.060615  0.514676  3.817863 -0.235056  0.318187     8.0  \n",
       "9   5.539084  3.433719  7.989177 -0.120020  1.334828     9.0  \n",
       "10  3.863648 -3.931510  2.933816 -2.438439 -0.053669     0.0  \n",
       "11  7.175004  0.223996  3.125208 -2.418852 -0.123074     1.0  \n",
       "12  3.767079 -1.028144  4.738916 -1.164510 -1.403901     2.0  \n",
       "13  4.850026  2.851925  7.746739  2.377895  1.681476     3.0  \n",
       "14  6.454690  2.748005  7.756934  1.099066  0.906787     4.0  \n",
       "15  4.472460  1.746576  5.800915  2.123488  2.813497     5.0  \n",
       "16  2.427227  1.572069  3.771174  2.076471 -0.388128     6.0  \n",
       "17  5.979449  0.472589  4.602755  1.466489  1.155963     7.0  \n",
       "18  4.491079  0.230541  4.662488 -0.442572  0.756571     8.0  \n",
       "19  4.422763  0.963447  8.154892  1.847035  1.273384     9.0  "
      ]
     },
     "execution_count": 51,
     "metadata": {},
     "output_type": "execute_result"
    }
   ],
   "source": [
    "mydata.head(20)"
   ]
  },
  {
   "cell_type": "code",
   "execution_count": 52,
   "metadata": {},
   "outputs": [
    {
     "data": {
      "text/plain": [
       "(80, 13)"
      ]
     },
     "execution_count": 52,
     "metadata": {},
     "output_type": "execute_result"
    }
   ],
   "source": [
    "mydata.shape"
   ]
  },
  {
   "cell_type": "markdown",
   "metadata": {},
   "source": [
    "#### 2. Checker les variables quantitatives/qualitatives et les valeurs manquantes "
   ]
  },
  {
   "cell_type": "code",
   "execution_count": 53,
   "metadata": {},
   "outputs": [
    {
     "name": "stdout",
     "output_type": "stream",
     "text": [
      "<class 'pandas.core.frame.DataFrame'>\n",
      "RangeIndex: 80 entries, 0 to 79\n",
      "Data columns (total 13 columns):\n",
      " #   Column  Non-Null Count  Dtype  \n",
      "---  ------  --------------  -----  \n",
      " 0   Fe1     80 non-null     float64\n",
      " 1   Fe2     80 non-null     float64\n",
      " 2   Fe3     80 non-null     float64\n",
      " 3   Fe4     80 non-null     float64\n",
      " 4   Fe5     80 non-null     float64\n",
      " 5   Fe6     80 non-null     float64\n",
      " 6   Fe7     80 non-null     float64\n",
      " 7   Fe8     80 non-null     float64\n",
      " 8   Fe9     80 non-null     float64\n",
      " 9   Fe10    80 non-null     float64\n",
      " 10  Fe11    80 non-null     float64\n",
      " 11  Fe12    80 non-null     float64\n",
      " 12  Target  80 non-null     float64\n",
      "dtypes: float64(13)\n",
      "memory usage: 8.2 KB\n"
     ]
    }
   ],
   "source": [
    "mydata.info()"
   ]
  },
  {
   "cell_type": "code",
   "execution_count": 54,
   "metadata": {},
   "outputs": [
    {
     "data": {
      "text/plain": [
       "Index([], dtype='object')"
      ]
     },
     "execution_count": 54,
     "metadata": {},
     "output_type": "execute_result"
    }
   ],
   "source": [
    "listena = mydata.columns[mydata.isnull().any()]\n",
    "listena"
   ]
  },
  {
   "cell_type": "markdown",
   "metadata": {},
   "source": [
    "#### 3. Visualiser les targets"
   ]
  },
  {
   "cell_type": "code",
   "execution_count": 55,
   "metadata": {},
   "outputs": [
    {
     "data": {
      "text/plain": [
       "9.0    8\n",
       "8.0    8\n",
       "7.0    8\n",
       "6.0    8\n",
       "5.0    8\n",
       "4.0    8\n",
       "3.0    8\n",
       "2.0    8\n",
       "1.0    8\n",
       "0.0    8\n",
       "Name: Target, dtype: int64"
      ]
     },
     "execution_count": 55,
     "metadata": {},
     "output_type": "execute_result"
    }
   ],
   "source": [
    "target = mydata['Target'].value_counts()\n",
    "target"
   ]
  },
  {
   "cell_type": "markdown",
   "metadata": {},
   "source": [
    "#### Sous forme de diagramme"
   ]
  },
  {
   "cell_type": "code",
   "execution_count": 56,
   "metadata": {},
   "outputs": [
    {
     "data": {
      "image/png": "[encoded data removed]",
      "text/plain": [
       "<Figure size 360x360 with 1 Axes>"
      ]
     },
     "metadata": {},
     "output_type": "display_data"
    }
   ],
   "source": [
    "plt.figure(1,figsize=(5,5))\n",
    "sb.countplot(x='Target', data=mydata)\n",
    "plt.xlabel('targets')\n",
    "plt.ylabel('Count')\n",
    "plt.show()"
   ]
  },
  {
   "cell_type": "markdown",
   "metadata": {},
   "source": [
    "#### observer la répartition (séparation des caracteristiques) à l'aide d'une réduction de dimensions (PCA=2) permet de mesurer visuellement comment les classes sont distinctes ou mélangées"
   ]
  },
  {
   "cell_type": "code",
   "execution_count": 57,
   "metadata": {},
   "outputs": [
    {
     "data": {
      "image/png": "[encoded data removed]",
      "text/plain": [
       "<Figure size 1080x648 with 1 Axes>"
      ]
     },
     "metadata": {},
     "output_type": "display_data"
    }
   ],
   "source": [
    "import seaborn as sns \n",
    "import matplotlib.pyplot as plt \n",
    "from sklearn.decomposition import PCA\n",
    "\n",
    "pca = PCA(n_components=2)\n",
    "df2 = pd.DataFrame(pca.fit_transform(mydata.iloc[:, :-1]))\n",
    "\n",
    "df2[\"Target\"] = mydata[\"Target\"]\n",
    "df2.columns = [\"P1\",\"P2\",\"Target\"]\n",
    "\n",
    "\n",
    "plt.figure(1,figsize=(15,9))\n",
    "plt.clf()\n",
    "sns.scatterplot(x=\"P1\",y=\"P2\",hue=\"Target\",data=df2, palette = \"Paired\")\n",
    "\n",
    "\n",
    "\n",
    "#plt.plot(x,y,\"+\")\n",
    "\n",
    "plt.xlabel('P1')\n",
    "plt.ylabel('P2')\n",
    "plt.legend(loc=2, prop={'size': 10})\n",
    "plt.show()"
   ]
  },
  {
   "cell_type": "markdown",
   "metadata": {},
   "source": [
    "#### 4. Notre variable target (Y) est 'gender', Récuprer X et y à partir du jeu de données \n",
    "Séparation de la classe à prédire (target)"
   ]
  },
  {
   "cell_type": "code",
   "execution_count": 58,
   "metadata": {},
   "outputs": [
    {
     "data": {
      "text/plain": [
       "(80, 12)"
      ]
     },
     "execution_count": 58,
     "metadata": {},
     "output_type": "execute_result"
    }
   ],
   "source": [
    "y = mydata['Target']\n",
    "X = mydata.iloc[:,:-1]\n",
    "X.shape"
   ]
  },
  {
   "cell_type": "code",
   "execution_count": 59,
   "metadata": {},
   "outputs": [
    {
     "data": {
      "text/plain": [
       "0     0.0\n",
       "1     1.0\n",
       "2     2.0\n",
       "3     3.0\n",
       "4     4.0\n",
       "     ... \n",
       "75    5.0\n",
       "76    6.0\n",
       "77    7.0\n",
       "78    8.0\n",
       "79    9.0\n",
       "Name: Target, Length: 80, dtype: float64"
      ]
     },
     "execution_count": 59,
     "metadata": {},
     "output_type": "execute_result"
    }
   ],
   "source": [
    "y"
   ]
  },
  {
   "cell_type": "markdown",
   "metadata": {},
   "source": [
    "#### 5. Diviser la DataSet en donneés d'apprentissage et de test (20% pour le test)\n",
    "séparation du jeu de données en train et test et vérification du bon formatage des matrices"
   ]
  },
  {
   "cell_type": "code",
   "execution_count": 60,
   "metadata": {},
   "outputs": [
    {
     "name": "stdout",
     "output_type": "stream",
     "text": [
      "Train: (64, 12) Test: (16, 12)\n"
     ]
    }
   ],
   "source": [
    "X_train, X_test, y_train, y_test = train_test_split(X, y, test_size=0.2, random_state=42, stratify=y)\n",
    "print('Train:', X_train.shape, 'Test:', X_test.shape)"
   ]
  },
  {
   "cell_type": "markdown",
   "metadata": {},
   "source": [
    "#### 6. Développer votre meilleur modèle de classification\n",
    "construction du pipeline avec différents classifiers, applications de multiples parametres en gridsearch et affichage des performances pour trouver le meilleur classifier avec les meilleurs parametres."
   ]
  },
  {
   "cell_type": "code",
   "execution_count": 61,
   "metadata": {},
   "outputs": [
    {
     "name": "stdout",
     "output_type": "stream",
     "text": [
      "Score (svc) : 93.75% \n",
      "Meilleurs paramètres : {'svc__C': 10, 'svc__kernel': 'rbf'}\n",
      "\n",
      " ===================================================================== \n",
      "\n",
      "Score (svc_0) : 81.25% \n",
      "Meilleurs paramètres : {'svc__C': 1, 'svc__kernel': 'linear'}\n",
      "\n",
      " ===================================================================== \n",
      "\n",
      "Score (knn) : 62.5% \n",
      "Meilleurs paramètres : {'knn__metric': 'manhattan', 'knn__n_neighbors': 4}\n",
      "\n",
      " ===================================================================== \n",
      "\n",
      "Score (knn_0) : 75.0% \n",
      "Meilleurs paramètres : {'knn__metric': 'euclidean', 'knn__n_neighbors': 5}\n",
      "\n",
      " ===================================================================== \n",
      "\n",
      "Score (decision_tree) : 62.5% \n",
      "Meilleurs paramètres : {}\n",
      "\n",
      " ===================================================================== \n",
      "\n",
      "Score (decision_tree_0) : 62.5% \n",
      "Meilleurs paramètres : {}\n",
      "\n",
      " ===================================================================== \n",
      "\n",
      "Score (random_forest) : 87.5% \n",
      "Meilleurs paramètres : {'forest__n_estimators': 123}\n",
      "\n",
      " ===================================================================== \n",
      "\n",
      "Score (random_forest_0) : 81.25% \n",
      "Meilleurs paramètres : {'forest__n_estimators': 101}\n",
      "\n",
      " ===================================================================== \n",
      "\n",
      "Score (boost) : 56.25% \n",
      "Meilleurs paramètres : {'boost__learning_rate': 0.1, 'boost__loss': 'deviance'}\n",
      "\n",
      " ===================================================================== \n",
      "\n",
      "Score (boost_0) : 75.0% \n",
      "Meilleurs paramètres : {'boost__learning_rate': 0.1, 'boost__loss': 'deviance'}\n",
      "\n",
      " ===================================================================== \n",
      "\n",
      "Score (XGB) : 62.5% \n",
      "Meilleurs paramètres : {'XGB__eta': 0.3, 'XGB__eval_metric': 'mlogloss', 'XGB__max_depth': 4}\n",
      "\n",
      " ===================================================================== \n",
      "\n",
      "Score (XGB_0) : 62.5% \n",
      "Meilleurs paramètres : {'XGB__eta': 0.3, 'XGB__eval_metric': 'mlogloss', 'XGB__max_depth': 4}\n",
      "\n",
      " ===================================================================== \n",
      "\n",
      "Score (MLP) : 87.5% \n",
      "Meilleurs paramètres : {'MLP__activation': 'logistic', 'MLP__hidden_layer_sizes': (150,)}\n",
      "\n",
      " ===================================================================== \n",
      "\n",
      "Score (MLP_0) : 81.25% \n",
      "Meilleurs paramètres : {'MLP__activation': 'tanh', 'MLP__hidden_layer_sizes': (150,)}\n",
      "\n",
      " ===================================================================== \n",
      "\n"
     ]
    }
   ],
   "source": [
    "from sklearn.neighbors import KNeighborsClassifier\n",
    "from sklearn.svm import SVC\n",
    "from sklearn.ensemble import RandomForestClassifier\n",
    "from sklearn.pipeline import Pipeline\n",
    "from sklearn.model_selection import GridSearchCV\n",
    "\n",
    "model_name = ['svc', 'svc_0', 'knn', 'knn_0', 'decision_tree', 'decision_tree_0', 'random_forest', 'random_forest_0', 'boost', 'boost_0', 'XGB', 'XGB_0', 'MLP', 'MLP_0']\n",
    "pipelines = [\n",
    "             Pipeline([('scaler', StandardScaler()), ('svc', SVC())]),\n",
    "             Pipeline([('svc', SVC())]),\n",
    "             Pipeline([('scaler', StandardScaler()), ('knn',  KNeighborsClassifier())]),\n",
    "             Pipeline([('knn',  KNeighborsClassifier())]),\n",
    "             Pipeline([('scaler', StandardScaler()), ('decision_tree', DecisionTreeClassifier())]),\n",
    "             Pipeline([('decision_tree', DecisionTreeClassifier())]),\n",
    "             Pipeline([('scaler', StandardScaler()), ('forest', RandomForestClassifier())]),\n",
    "             Pipeline([('forest', RandomForestClassifier())]),\n",
    "             Pipeline([('scaler', StandardScaler()), ('boost', GradientBoostingClassifier())]),\n",
    "             Pipeline([('boost', GradientBoostingClassifier())]),   \n",
    "             Pipeline([('scaler', StandardScaler()), ('XGB', XGBClassifier())]),\n",
    "             Pipeline([('XGB', XGBClassifier())]),    \n",
    "             Pipeline([('scaler', StandardScaler()), ('MLP', MLPClassifier())]),\n",
    "             Pipeline([('MLP', MLPClassifier())])]\n",
    "    \n",
    "parameters =[{'svc__kernel': ['linear', 'rbf'],\n",
    "               'svc__C':[1, 10]},{'svc__kernel': ['linear', 'rbf'],\n",
    "               'svc__C':[1, 10]}, \n",
    "            {'knn__n_neighbors': np.arange(1, 10), \n",
    "              'knn__metric':[\"euclidean\", \"minkowski\", \"manhattan\"]},\n",
    "            {'knn__n_neighbors': np.arange(1, 10), \n",
    "              'knn__metric':[\"euclidean\", \"minkowski\", \"manhattan\"]},\n",
    "             {}, {},\n",
    "             {'forest__n_estimators': np.arange(100, 125)},{'forest__n_estimators': np.arange(100, 125)},\n",
    "             {'boost__loss' : ['deviance', 'boost__exponential'], 'boost__learning_rate' : [0.1, 0.2, 0.3]},{'boost__loss' : ['deviance', 'boost__exponential'], 'boost__learning_rate' : [0.1, 0.2, 0.3]},\n",
    "             {'XGB__eta' : [0.1, 0.2, 0.3, 0.4], 'XGB__max_depth' : [2, 4, 6, 8, 10], 'XGB__eval_metric' : ['mlogloss']},{'XGB__eta' : [0.1, 0.2, 0.3, 0.4], 'XGB__max_depth' : [2, 4, 6, 8, 10], 'XGB__eval_metric' : ['mlogloss']},\n",
    "             {'MLP__hidden_layer_sizes' : [(50,), (100,), (150,)], 'MLP__activation' : ['identity', 'logistic', 'tanh', 'relu']},{'MLP__hidden_layer_sizes' : [(50,), (100,), (150,)], 'MLP__activation' : ['identity', 'logistic', 'tanh', 'relu']}]\n",
    "\n",
    "\n",
    "\n",
    "best_param = []\n",
    "Predictions = {}\n",
    "\n",
    "for model, p, name in zip(pipelines, parameters, model_name):\n",
    "        exp = GridSearchCV(model, param_grid = p)\n",
    "        exp.fit(X_train, y_train)\n",
    "        Predictions[name] = exp.predict(X_test)\n",
    "        print(f\"Score ({name}) : {exp.score(X_test, y_test)*100}% \\nMeilleurs paramètres : {exp.best_params_}\")\n",
    "        print(\"\\n ===================================================================== \\n\")"
   ]
  },
  {
   "cell_type": "markdown",
   "metadata": {},
   "source": [
    "# Application en Temps Réel"
   ]
  },
  {
   "cell_type": "code",
   "execution_count": 19,
   "metadata": {},
   "outputs": [],
   "source": [
    "#importé au préalable\n",
    "#from Tools.tools import rec\n",
    "#from Tools.tools import collection"
   ]
  },
  {
   "cell_type": "markdown",
   "metadata": {},
   "source": [
    "### Choix du modèle SVC qui donne les meilleurs résultats \n",
    "(kernel=rbf  C=10) et avec application de la standadisation de données"
   ]
  },
  {
   "cell_type": "code",
   "execution_count": 63,
   "metadata": {},
   "outputs": [
    {
     "data": {
      "text/plain": [
       "SVC(C=10)"
      ]
     },
     "execution_count": 63,
     "metadata": {},
     "output_type": "execute_result"
    }
   ],
   "source": [
    "scaler = StandardScaler() \n",
    "scaler.fit(X_train)\n",
    "X_train=scaler.transform(X_train)\n",
    "model = SVC(C= 10, kernel= 'rbf')\n",
    "model.fit(X_train, y_train)"
   ]
  },
  {
   "cell_type": "markdown",
   "metadata": {},
   "source": [
    "### Utilisation de joblib\n",
    "joblib permet de sauvegarder des structures de données dans un fichier pour pouvoir les recharger après (par exemple un modèle de machine learning)"
   ]
  },
  {
   "cell_type": "code",
   "execution_count": 64,
   "metadata": {},
   "outputs": [
    {
     "data": {
      "text/plain": [
       "['SVC']"
      ]
     },
     "execution_count": 64,
     "metadata": {},
     "output_type": "execute_result"
    }
   ],
   "source": [
    "import joblib\n",
    "joblib.dump(MLPClassifier(activation='identity', hidden_layer_sizes = (150,)) , 'SVC')"
   ]
  },
  {
   "cell_type": "code",
   "execution_count": 65,
   "metadata": {},
   "outputs": [
    {
     "data": {
      "text/plain": [
       "MLPClassifier(activation='identity', hidden_layer_sizes=(150,))"
      ]
     },
     "execution_count": 65,
     "metadata": {},
     "output_type": "execute_result"
    }
   ],
   "source": [
    "m_jlib = joblib.load('SVC')\n",
    "m_jlib.fit(X_train, y_train)"
   ]
  },
  {
   "cell_type": "code",
   "execution_count": 78,
   "metadata": {},
   "outputs": [
    {
     "name": "stdout",
     "output_type": "stream",
     "text": [
      "Attention, l'enregistrement commence dans :\n",
      "5\n",
      "4\n",
      "3\n",
      "2\n",
      "1\n",
      "0\n",
      "Prononcer votre Digit : \n"
     ]
    },
    {
     "name": "stderr",
     "output_type": "stream",
     "text": [
      "WARNING:root:frame length (1200) is greater than FFT size (512), frame will be truncated. Increase NFFT to avoid.\n"
     ]
    },
    {
     "name": "stdout",
     "output_type": "stream",
     "text": [
      "------------------\n",
      "Digit :  9.0\n",
      "------------------\n"
     ]
    }
   ],
   "source": [
    "rec(scaler, model)"
   ]
  },
  {
   "cell_type": "code",
   "execution_count": null,
   "metadata": {},
   "outputs": [],
   "source": []
  }
 ],
 "metadata": {
  "kernelspec": {
   "display_name": "Python 3",
   "language": "python",
   "name": "python3"
  },
  "language_info": {
   "codemirror_mode": {
    "name": "ipython",
    "version": 3
   },
   "file_extension": ".py",
   "mimetype": "text/x-python",
   "name": "python",
   "nbconvert_exporter": "python",
   "pygments_lexer": "ipython3",
   "version": "3.8.3"
  }
 },
 "nbformat": 4,
 "nbformat_minor": 5
}
